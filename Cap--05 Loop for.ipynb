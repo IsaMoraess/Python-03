{
 "cells": [
  {
   "cell_type": "markdown",
   "id": "4c6eed67",
   "metadata": {},
   "source": [
    "# Loop For "
   ]
  },
  {
   "cell_type": "code",
   "execution_count": 1,
   "id": "d56a0cbf",
   "metadata": {},
   "outputs": [
    {
     "name": "stdout",
     "output_type": "stream",
     "text": [
      "2\n",
      "3\n",
      "4\n"
     ]
    }
   ],
   "source": [
    "# Criando uma tupla e imprimindo cada um dos valores\n",
    "tp = (2,3,4)\n",
    "for i in tp:\n",
    "    print(i)"
   ]
  },
  {
   "cell_type": "code",
   "execution_count": 2,
   "id": "a2aa6fe3",
   "metadata": {},
   "outputs": [
    {
     "name": "stdout",
     "output_type": "stream",
     "text": [
      "Faça\n",
      "por\n",
      "Voce\n"
     ]
    }
   ],
   "source": [
    "# Criando uma lista e imprimindo cada um dos valores\n",
    "ListasDeStrings = [\"Faça\", \"por\", \"Voce\"]\n",
    "for i in ListasDeStrings:\n",
    "    print(i)"
   ]
  },
  {
   "cell_type": "code",
   "execution_count": 3,
   "id": "10b10065",
   "metadata": {},
   "outputs": [
    {
     "name": "stdout",
     "output_type": "stream",
     "text": [
      "0\n",
      "1\n",
      "2\n",
      "3\n",
      "4\n"
     ]
    }
   ],
   "source": [
    "# Imprimindo os valores no intervalo de 0 e 5 (exclusive)\n",
    "for contador in range(0,5):\n",
    "    print(contador)"
   ]
  },
  {
   "cell_type": "code",
   "execution_count": 4,
   "id": "6cfcae39",
   "metadata": {},
   "outputs": [
    {
     "name": "stdout",
     "output_type": "stream",
     "text": [
      "2\n",
      "4\n",
      "6\n",
      "8\n",
      "10\n"
     ]
    }
   ],
   "source": [
    "# Imprimindo os numeros pares da lista de numeros\n",
    "lista = [1,2,3,4,5,6,7,8,9,10]\n",
    "for num in lista:\n",
    "    if num % 2 == 0:\n",
    "        print(num)\n",
    "    \n"
   ]
  },
  {
   "cell_type": "code",
   "execution_count": 5,
   "id": "d96e025d",
   "metadata": {},
   "outputs": [
    {
     "name": "stdout",
     "output_type": "stream",
     "text": [
      "0\n",
      "2\n",
      "4\n",
      "6\n",
      "8\n",
      "10\n",
      "12\n",
      "14\n",
      "16\n",
      "18\n",
      "20\n",
      "22\n",
      "24\n",
      "26\n",
      "28\n",
      "30\n",
      "32\n",
      "34\n",
      "36\n",
      "38\n",
      "40\n",
      "42\n",
      "44\n",
      "46\n",
      "48\n",
      "50\n",
      "52\n",
      "54\n",
      "56\n",
      "58\n",
      "60\n",
      "62\n",
      "64\n",
      "66\n",
      "68\n",
      "70\n",
      "72\n",
      "74\n",
      "76\n",
      "78\n",
      "80\n",
      "82\n",
      "84\n",
      "86\n",
      "88\n",
      "90\n",
      "92\n",
      "94\n",
      "96\n",
      "98\n",
      "100\n"
     ]
    }
   ],
   "source": [
    "# Listando os numeros no intervalo entre 0 e 101, com incremento em 2\n",
    "for i in range(0,101,2):\n",
    "    print(i)"
   ]
  },
  {
   "cell_type": "code",
   "execution_count": 7,
   "id": "01cc52b1",
   "metadata": {},
   "outputs": [
    {
     "name": "stdout",
     "output_type": "stream",
     "text": [
      "P\n",
      "y\n",
      "t\n",
      "h\n",
      "o\n",
      "n\n",
      " \n",
      "e\n",
      " \n",
      "u\n",
      "m\n",
      "a\n",
      " \n",
      "l\n",
      "i\n",
      "n\n",
      "g\n",
      "u\n",
      "a\n",
      "g\n",
      "e\n",
      "m\n",
      " \n",
      "d\n",
      "e\n",
      " \n",
      "p\n",
      "r\n",
      "o\n",
      "g\n",
      "a\n",
      "m\n",
      "a\n",
      "ç\n",
      "a\n",
      "o\n",
      " \n",
      "d\n",
      "i\n",
      "v\n",
      "e\n",
      "r\n",
      "t\n",
      "i\n",
      "d\n",
      "a\n",
      "!\n"
     ]
    }
   ],
   "source": [
    "# Strings tambem sao sequencias\n",
    "for caractere in 'Python e uma linguagem de progamaçao divertida!':\n",
    "    print(caractere)"
   ]
  },
  {
   "cell_type": "markdown",
   "id": "808b5644",
   "metadata": {},
   "source": [
    "## Loop For Aninhado "
   ]
  },
  {
   "cell_type": "code",
   "execution_count": 8,
   "id": "61d80524",
   "metadata": {},
   "outputs": [
    {
     "name": "stdout",
     "output_type": "stream",
     "text": [
      "\n",
      " 0\n",
      "---\n",
      "\n",
      " 0\n",
      "---\n",
      "\n",
      " 0\n",
      "---\n",
      "\n",
      " 0\n",
      "---\n",
      "\n",
      " 0\n",
      "---\n",
      "\n",
      " 0\n",
      "---\n",
      "\n",
      " 1\n",
      "---\n",
      "\n",
      " 2\n",
      "---\n",
      "\n",
      " 3\n",
      "---\n",
      "\n",
      " 4\n",
      "---\n",
      "\n",
      " 0\n",
      "---\n",
      "\n",
      " 2\n",
      "---\n",
      "\n",
      " 4\n",
      "---\n",
      "\n",
      " 6\n",
      "---\n",
      "\n",
      " 8\n",
      "---\n",
      "\n",
      " 0\n",
      "---\n",
      "\n",
      " 3\n",
      "---\n",
      "\n",
      " 6\n",
      "---\n",
      "\n",
      " 9\n",
      "---\n",
      "\n",
      " 12\n",
      "---\n",
      "\n",
      " 0\n",
      "---\n",
      "\n",
      " 4\n",
      "---\n",
      "\n",
      " 8\n",
      "---\n",
      "\n",
      " 12\n",
      "---\n",
      "\n",
      " 16\n",
      "---\n"
     ]
    }
   ],
   "source": [
    "# Loops Aninhados\n",
    "for i in range(0,5):\n",
    "    for a in range(0,5):\n",
    "        print('\\n', a *  i )\n",
    "        print('---')"
   ]
  },
  {
   "cell_type": "code",
   "execution_count": 9,
   "id": "8ae54848",
   "metadata": {},
   "outputs": [
    {
     "name": "stdout",
     "output_type": "stream",
     "text": [
      "\n",
      " 0\n",
      "---\n",
      "\n",
      " 0\n",
      "---\n",
      "\n",
      " 0\n",
      "---\n",
      "\n",
      " 1\n",
      "---\n",
      "\n",
      " 2\n",
      "---\n",
      "\n",
      " 3\n",
      "---\n",
      "\n",
      " 2\n",
      "---\n",
      "\n",
      " 4\n",
      "---\n",
      "\n",
      " 6\n",
      "---\n",
      "\n",
      " 3\n",
      "---\n",
      "\n",
      " 6\n",
      "---\n",
      "\n",
      " 9\n",
      "---\n",
      "\n",
      " 4\n",
      "---\n",
      "\n",
      " 8\n",
      "---\n",
      "\n",
      " 12\n",
      "---\n"
     ]
    }
   ],
   "source": [
    "# Loops aninhados\n",
    "\n",
    "lista1 = [0,1,2,3,4]\n",
    "lista2 = [1,2,3]\n",
    "\n",
    "# Loop externo\n",
    "for elemento_lista1 in lista1:\n",
    "    \n",
    "    # Loop interno\n",
    "    for elemento_lista2 in lista2:\n",
    "        \n",
    "        print('\\n', elemento_lista1 * elemento_lista2)\n",
    "        \n",
    "        print('---')"
   ]
  },
  {
   "cell_type": "code",
   "execution_count": 11,
   "id": "28566c99",
   "metadata": {},
   "outputs": [
    {
     "name": "stdout",
     "output_type": "stream",
     "text": [
      "O numero 47 foi encontrado nas listas!\n"
     ]
    }
   ],
   "source": [
    "# O numero 47 aparece nas duas listas\n",
    "\n",
    "lista1 = [10,16,24,39,47]\n",
    "lista2 = [32,89,47,76,12]\n",
    "\n",
    "# Loop externo\n",
    "for elemento_lista1 in lista1:\n",
    "    \n",
    "    # Loop interno\n",
    "    for elemento_lista2 in lista2:\n",
    "        \n",
    "        # Loop condicional\n",
    "        if elemento_lista1 == 47 and elemento_lista2 == 47:\n",
    "            \n",
    "            print(\"O numero 47 foi encontrado nas listas!\")\n",
    "        "
   ]
  },
  {
   "cell_type": "code",
   "execution_count": 2,
   "id": "b32b57be",
   "metadata": {},
   "outputs": [
    {
     "name": "stdout",
     "output_type": "stream",
     "text": [
      "A soma dos numeros pares das duas listas e igual a 170\n"
     ]
    }
   ],
   "source": [
    "# Some os numeros pares da primeira lista com os numeros pares da segunda lista\n",
    "\n",
    "lista1 = [10,16,24,39,47]\n",
    "lista2 = [32,89,47,76,12]\n",
    "soma = 0\n",
    "\n",
    "# Loop externo\n",
    "for lista in [lista1, lista2]:\n",
    "    \n",
    "    # Loop intenro\n",
    "    for num in lista:\n",
    "        \n",
    "        # Condicional\n",
    "        if num % 2 == 0:\n",
    "            soma += num\n",
    "            \n",
    "print(\"A soma dos numeros pares das duas listas e igual a\",soma)            \n",
    "    "
   ]
  },
  {
   "cell_type": "code",
   "execution_count": 3,
   "id": "7d4ff861",
   "metadata": {},
   "outputs": [
    {
     "data": {
      "text/plain": [
       "[10, 16, 24, 39, 47, 32, 89, 47, 76, 12]"
      ]
     },
     "execution_count": 3,
     "metadata": {},
     "output_type": "execute_result"
    }
   ],
   "source": [
    "# listas podem ser concatenam em Pyrhon\n",
    "lista1 + lista2"
   ]
  },
  {
   "cell_type": "code",
   "execution_count": 7,
   "id": "d9733f3c",
   "metadata": {},
   "outputs": [
    {
     "name": "stdout",
     "output_type": "stream",
     "text": [
      "A soma dos numeros pares: 170\n"
     ]
    }
   ],
   "source": [
    "# Some os numeros pares da primeira lista com os numeros pares da segunda lista\n",
    "\n",
    "lista1 = [10,16,24,39,47]\n",
    "lista2 = [32,89,47,76,12]\n",
    "soma = 0\n",
    "\n",
    "for num in lista1 + lista2:\n",
    "    if num % 2 == 0:\n",
    "        soma += num\n",
    "        \n",
    "print(\"A soma dos numeros pares:\", soma)    "
   ]
  },
  {
   "cell_type": "code",
   "execution_count": null,
   "id": "7f189a84",
   "metadata": {},
   "outputs": [],
   "source": [
    "# Loop em lista de lista (matrizes) para encontrar o maior numero\n",
    "matriz = [[42,23,34], [100,215,114 , [10.1,98.7,12.3]]\n",
    "maior_numero = 0 \n",
    "          \n",
    "# Loop externo\n",
    "for linha in matriz:\n",
    "          \n",
    "     # Loop interno\n",
    "     for num in linha:\n",
    "           \n",
    "          # Condicional\n",
    "          if num > maior_numero:\n",
    "             maior_numero = num\n",
    "          \n",
    "print(\"Maior numero:\", maior_numero)"
   ]
  },
  {
   "cell_type": "code",
   "execution_count": 22,
   "id": "7e8afe8f",
   "metadata": {},
   "outputs": [
    {
     "name": "stdout",
     "output_type": "stream",
     "text": [
      "k1\n",
      "k2\n",
      "k3\n"
     ]
    }
   ],
   "source": [
    "# Listando as chaves de um dicionario\n",
    "dict = {'k1':'Python','k2':'R','k3':'Scala'}\n",
    "for item in dict:\n",
    "    print(item)"
   ]
  },
  {
   "cell_type": "code",
   "execution_count": 23,
   "id": "8d3856b0",
   "metadata": {},
   "outputs": [
    {
     "name": "stdout",
     "output_type": "stream",
     "text": [
      "k1 Python\n",
      "k2 R\n",
      "k3 Scala\n"
     ]
    }
   ],
   "source": [
    "# Imprimindo chave e valor do dicionario. Usando o metodo items() para retorna os itens do dicionario\n",
    "for k,v in dict.items():\n",
    "    print(k,v)\n"
   ]
  },
  {
   "cell_type": "markdown",
   "id": "24026c9e",
   "metadata": {},
   "source": [
    "# Fim"
   ]
  },
  {
   "cell_type": "code",
   "execution_count": null,
   "id": "83a21b51",
   "metadata": {},
   "outputs": [],
   "source": []
  }
 ],
 "metadata": {
  "kernelspec": {
   "display_name": "Python 3 (ipykernel)",
   "language": "python",
   "name": "python3"
  },
  "language_info": {
   "codemirror_mode": {
    "name": "ipython",
    "version": 3
   },
   "file_extension": ".py",
   "mimetype": "text/x-python",
   "name": "python",
   "nbconvert_exporter": "python",
   "pygments_lexer": "ipython3",
   "version": "3.9.13"
  }
 },
 "nbformat": 4,
 "nbformat_minor": 5
}
